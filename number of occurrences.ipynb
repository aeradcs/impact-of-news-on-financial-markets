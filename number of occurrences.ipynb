{
 "cells": [
  {
   "cell_type": "code",
   "execution_count": 23,
   "id": "eab0f9f0",
   "metadata": {},
   "outputs": [],
   "source": [
    "#Import the libraries\n",
    "import pandas as pd\n",
    "import numpy as np\n",
    "import csv\n",
    "import math\n",
    "import pandas as pd\n",
    "from nltk.corpus import stopwords as nltk_stopwords\n",
    "from gensim.models.hdpmodel import HdpModel\n",
    "from gensim.corpora import Dictionary\n",
    "import re\n",
    "import plotly.express as px\n",
    "import gensim.matutils as matutils\n",
    "from sklearn.decomposition import SparsePCA\n",
    "from sklearn import metrics\n",
    "from sklearn.ensemble import RandomForestClassifier"
   ]
  },
  {
   "cell_type": "code",
   "execution_count": 24,
   "id": "9de37310",
   "metadata": {},
   "outputs": [],
   "source": [
    "#Text Cleaning and Preprocessing\n",
    "def preprocessing(text):\n",
    "    stops = nltk_stopwords.words('english')\n",
    "\n",
    "    text = text.lower()\n",
    "\n",
    "    # remove emails\n",
    "    text = re.sub('\\S*@\\S*\\s?', ' ', text)\n",
    "\n",
    "    # remove numbers and dates\n",
    "    text = re.sub('\\$?[0-9]+[\\.]?[0-9]*s?%?\\$?\\s?', ' ', text)\n",
    "\n",
    "    # remove hastags\n",
    "    text = re.sub('#\\S*\\s?', ' ', text)\n",
    "\n",
    "    # remove https\n",
    "    text = re.sub('https://\\S*\\s?', ' ', text)\n",
    "\n",
    "    # remove http\n",
    "    text = re.sub('http://\\S*\\s?', ' ', text)\n",
    "\n",
    "    for x in [\",\", \":\", \"!\", \"?\", \";\", \"[\", \"]\",\n",
    "              \"(\", \")\", \"\\\"\", \"\\'\", \".\", \"\\\"\",\n",
    "              \"#\", \"@\", \"&\", \"`\", \"'\", \"’\", \"-\",\n",
    "              \"+\", \"=\", \"_\", \"<\", \">\", \"\\\\\",\n",
    "              \"|\", \"}\", \"{\", \"/\", \"—\", \"$\", \"“\", \"”\"]:\n",
    "        text = text.replace(x, \"\")\n",
    "    text = text.split()\n",
    "    cleaned_text = []\n",
    "    for word in text:\n",
    "        if not (word in stops):\n",
    "            cleaned_text.append(word)\n",
    "    text = cleaned_text\n",
    "    return text"
   ]
  },
  {
   "cell_type": "code",
   "execution_count": 48,
   "id": "2e336f45",
   "metadata": {},
   "outputs": [],
   "source": [
    "#Read and Inspect the Data\n",
    "news = pd.read_csv('bloomberg_marked_df.csv')"
   ]
  },
  {
   "cell_type": "code",
   "execution_count": 49,
   "id": "ff63f7f9",
   "metadata": {},
   "outputs": [
    {
     "name": "stdout",
     "output_type": "stream",
     "text": [
      "   mark        date                                               news\n",
      "0     1  2021-07-22  [indias, environment, ministry, almost, halved...\n",
      "1     1  2021-07-22  [singapores, home, price, growth, slowed, seco...\n",
      "2     1  2021-07-22  [keeps, breaking, buck, engaged, financial, tr...\n",
      "3     1  2021-07-22  [malaysia, confirmed, one, case, individual, i...\n",
      "4     1  2021-07-22  [xponential, fitness, inc, franchise, owner, b...\n"
     ]
    }
   ],
   "source": [
    "df = news.copy()\n",
    "df['news'] = df['news'].apply(lambda text: preprocessing(text))\n",
    "print(df.head())"
   ]
  },
  {
   "cell_type": "code",
   "execution_count": 50,
   "id": "b06227e5",
   "metadata": {},
   "outputs": [],
   "source": [
    "NER = pd.read_csv('bloom_NER.csv')"
   ]
  },
  {
   "cell_type": "code",
   "execution_count": 51,
   "id": "ad689a34",
   "metadata": {},
   "outputs": [],
   "source": [
    "NERnorm = set(NER['name'])"
   ]
  },
  {
   "cell_type": "code",
   "execution_count": 52,
   "id": "74cf77a8",
   "metadata": {},
   "outputs": [],
   "source": [
    "NERlist = list(NERnorm)"
   ]
  },
  {
   "cell_type": "code",
   "execution_count": 53,
   "id": "113513e8",
   "metadata": {},
   "outputs": [],
   "source": [
    "with open(\"data1.csv\",\"w\") as file:\n",
    "    writer = csv.writer(file)\n",
    "    writer.writerow(NERlist)"
   ]
  },
  {
   "cell_type": "code",
   "execution_count": 54,
   "id": "aaa34150",
   "metadata": {},
   "outputs": [],
   "source": [
    "x = pd.read_csv('data1.csv')"
   ]
  },
  {
   "cell_type": "code",
   "execution_count": 55,
   "id": "b77fead9",
   "metadata": {},
   "outputs": [
    {
     "data": {
      "text/html": [
       "<div>\n",
       "<style scoped>\n",
       "    .dataframe tbody tr th:only-of-type {\n",
       "        vertical-align: middle;\n",
       "    }\n",
       "\n",
       "    .dataframe tbody tr th {\n",
       "        vertical-align: top;\n",
       "    }\n",
       "\n",
       "    .dataframe thead th {\n",
       "        text-align: right;\n",
       "    }\n",
       "</style>\n",
       "<table border=\"1\" class=\"dataframe\">\n",
       "  <thead>\n",
       "    <tr style=\"text-align: right;\">\n",
       "      <th></th>\n",
       "      <th>American Crystal Sugar Company</th>\n",
       "      <th>Masaharu Noguchi</th>\n",
       "      <th>Chinese-Canadian</th>\n",
       "      <th>Amazon.com Inc.вЂ™s</th>\n",
       "      <th>Jackson Hole</th>\n",
       "      <th>Sunday.Australia</th>\n",
       "      <th>Jennifer Bartashus</th>\n",
       "      <th>UUP</th>\n",
       "      <th>deficit.Carnival Corp.</th>\n",
       "      <th>Lee Mergy</th>\n",
       "      <th>...</th>\n",
       "      <th>Ransomware</th>\n",
       "      <th>Metropolitan Board of Works</th>\n",
       "      <th>Point72 Asset Management</th>\n",
       "      <th>Homan Milani</th>\n",
       "      <th>Manhattanites</th>\n",
       "      <th>Endo</th>\n",
       "      <th>Ginnie Mae II</th>\n",
       "      <th>PIPE</th>\n",
       "      <th>People Committee</th>\n",
       "      <th>Paradromics Inc.</th>\n",
       "    </tr>\n",
       "  </thead>\n",
       "  <tbody>\n",
       "  </tbody>\n",
       "</table>\n",
       "<p>0 rows × 5790 columns</p>\n",
       "</div>"
      ],
      "text/plain": [
       "Empty DataFrame\n",
       "Columns: [American Crystal Sugar Company, Masaharu Noguchi, Chinese-Canadian, Amazon.com Inc.вЂ™s, Jackson Hole, Sunday.Australia, Jennifer Bartashus, UUP, deficit.Carnival Corp., Lee Mergy, RamГ­rez, Bloomberg.OPEC +, Volkswagen AG, Bobi Wine, Weill, statement.Okta Inc, Twin Star Technologies, Dodgers, Versus, iHeartMedia Inc., London Stock Exchange Group Plc, Band-Aids, Joni Mitchell.Sign, Nikola Corp., Millennial, Latin American, Oman, Chinatowns, eBay, Bloomberg Opinion, Iranian StudentsвЂ™ News Agency, Exxon Mobil Corp., Satan, Bill Russell, Dutch, Tata Group, House Cleaning, LancГґme, China Securities Depository and Clearing Corp, Gokada, Nucleus Research, Chevron, Tuesday.ThailandвЂ™s, Khairy Jamaluddin, coronavirus.South Korea, Diana Ross, year.Taboola.com Ltd., RNC, Fortress Investment Group LLC, Pittsburgh, Tax Foundation, Rana Hogarth, Anastasia Bondarenko, lawmakers.Crown Resorts Ltd., Bank of America Corp.’s Merrill Lynch, Finance Ministry, Ricks, Pernod Ricard SA, million.SoftBank Group Corp., Activision, Bret, Bangladesh, Tom Perez, Sonja Heikkila, Walsh, Ncube, Federico II University, Air France, Taobao, Snowflake Inc., Grammys, Ray Dalio, Michael Ahrens, Boland, Coast Guard, Utico FZC, Great Recession, Sinovac Biotech Ltd.вЂ™s, Hungary, Germans, International Olympic Committee, James Bond, Powell, Emergency Operations Committee, Veeps, Department of Commerce, China Merchants Bank Co., Bank of Korea, Merv Adrian, New York University, Financial Corp., Norwegian Armed Forces, PlayStation, British, Office for the Southern District of Ohio.Roche Holding AG, Gemini Trust Co., AliBaba, COMAR, Mission Local, Zipcar, ...]\n",
       "Index: []\n",
       "\n",
       "[0 rows x 5790 columns]"
      ]
     },
     "execution_count": 55,
     "metadata": {},
     "output_type": "execute_result"
    }
   ],
   "source": [
    "x"
   ]
  },
  {
   "cell_type": "code",
   "execution_count": 56,
   "id": "4294399c",
   "metadata": {},
   "outputs": [],
   "source": [
    "array = []"
   ]
  },
  {
   "cell_type": "code",
   "execution_count": 57,
   "id": "31376e9e",
   "metadata": {},
   "outputs": [],
   "source": [
    "#number of occurences\n",
    "with open(\"data1.csv\",\"a\") as file:\n",
    "        for j in range(len(df['news'])):\n",
    "            for word in NERlist:\n",
    "                a = 0\n",
    "                for line in df['news'][j]:\n",
    "                    if word in line:\n",
    "                        a = a + 1\n",
    "                    else:\n",
    "                        a =a + 0\n",
    "                array.append(a)\n",
    "            writer = csv.writer(file)\n",
    "            writer.writerow(array)\n",
    "            #print(array)   \n",
    "            array.clear()"
   ]
  },
  {
   "cell_type": "code",
   "execution_count": null,
   "id": "3cce184b",
   "metadata": {},
   "outputs": [],
   "source": []
  }
 ],
 "metadata": {
  "kernelspec": {
   "display_name": "Python 3",
   "language": "python",
   "name": "python3"
  },
  "language_info": {
   "codemirror_mode": {
    "name": "ipython",
    "version": 3
   },
   "file_extension": ".py",
   "mimetype": "text/x-python",
   "name": "python",
   "nbconvert_exporter": "python",
   "pygments_lexer": "ipython3",
   "version": "3.8.8"
  }
 },
 "nbformat": 4,
 "nbformat_minor": 5
}
