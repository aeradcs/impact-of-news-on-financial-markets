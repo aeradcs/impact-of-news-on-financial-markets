{
  "nbformat": 4,
  "nbformat_minor": 0,
  "metadata": {
    "colab": {
      "name": "BERT.ipynb",
      "provenance": [],
      "collapsed_sections": []
    },
    "kernelspec": {
      "name": "python3",
      "display_name": "Python 3"
    },
    "language_info": {
      "name": "python"
    }
  },
  "cells": [
    {
      "cell_type": "code",
      "metadata": {
        "colab": {
          "base_uri": "https://localhost:8080/"
        },
        "id": "I3KdPw-erLLo",
        "outputId": "7c2ea374-4cbf-462b-a792-c43892653a41"
      },
      "source": [
        "from google.colab import drive\n",
        "drive.mount('/content/drive')"
      ],
      "execution_count": 159,
      "outputs": [
        {
          "output_type": "stream",
          "name": "stdout",
          "text": [
            "Drive already mounted at /content/drive; to attempt to forcibly remount, call drive.mount(\"/content/drive\", force_remount=True).\n"
          ]
        }
      ]
    },
    {
      "cell_type": "code",
      "metadata": {
        "id": "7nf1kEw_rLn-"
      },
      "source": [
        "PATH_TO_DATA = '/content/drive/MyDrive/dataset'"
      ],
      "execution_count": 160,
      "outputs": []
    },
    {
      "cell_type": "code",
      "metadata": {
        "colab": {
          "base_uri": "https://localhost:8080/"
        },
        "id": "x90MRAXVhRd5",
        "outputId": "ef7994cc-3d6d-47d3-dd62-fb137ae3617f"
      },
      "source": [
        "!pip install bert-for-tf2 \n",
        "!pip install sentencepiece"
      ],
      "execution_count": 161,
      "outputs": [
        {
          "output_type": "stream",
          "name": "stdout",
          "text": [
            "Requirement already satisfied: bert-for-tf2 in /usr/local/lib/python3.7/dist-packages (0.14.9)\n",
            "Requirement already satisfied: params-flow>=0.8.0 in /usr/local/lib/python3.7/dist-packages (from bert-for-tf2) (0.8.2)\n",
            "Requirement already satisfied: py-params>=0.9.6 in /usr/local/lib/python3.7/dist-packages (from bert-for-tf2) (0.10.2)\n",
            "Requirement already satisfied: numpy in /usr/local/lib/python3.7/dist-packages (from params-flow>=0.8.0->bert-for-tf2) (1.19.5)\n",
            "Requirement already satisfied: tqdm in /usr/local/lib/python3.7/dist-packages (from params-flow>=0.8.0->bert-for-tf2) (4.62.3)\n",
            "Requirement already satisfied: sentencepiece in /usr/local/lib/python3.7/dist-packages (0.1.96)\n"
          ]
        }
      ]
    },
    {
      "cell_type": "code",
      "metadata": {
        "id": "iAKi76osiVXq"
      },
      "source": [
        "try: \n",
        "  %tensorflow_version 2.x \n",
        "except Exception: \n",
        "  pass \n",
        "import tensorflow as tf \n",
        "\n",
        "import tensorflow_hub as hub \n",
        "\n",
        "from tensorflow.keras import layers \n",
        "import bert \n",
        "import pandas as pd\n",
        "import re"
      ],
      "execution_count": 162,
      "outputs": []
    },
    {
      "cell_type": "code",
      "metadata": {
        "id": "QCveSgAD0Jgj"
      },
      "source": [
        ""
      ],
      "execution_count": 162,
      "outputs": []
    },
    {
      "cell_type": "code",
      "metadata": {
        "colab": {
          "base_uri": "https://localhost:8080/"
        },
        "id": "qUo6YRZXiYMl",
        "outputId": "2a19f211-ec52-431f-ec45-fc1f05d74b56"
      },
      "source": [
        "data = pd.read_csv(PATH_TO_DATA + \"/bloomberg_marked_df (2).csv\") \n",
        "data.isnull().values.any() \n",
        "data.shape"
      ],
      "execution_count": 163,
      "outputs": [
        {
          "output_type": "execute_result",
          "data": {
            "text/plain": [
              "(1912, 3)"
            ]
          },
          "metadata": {},
          "execution_count": 163
        }
      ]
    },
    {
      "cell_type": "code",
      "metadata": {
        "id": "OhE5jy_1zSHb"
      },
      "source": [
        "def preprocess_text(sen): \n",
        "  # Removing html tags \n",
        "  sentence = remove_tags(sen) \n",
        "\n",
        "  # Remove punctuations and numbers \n",
        "  sentence = re.sub('[^a-zA-Z]', ' ', sentence) \n",
        "\n",
        "  # Single character removal \n",
        "  sentence = re.sub(r\"\\s+[a-zA-Z]\\s+\", ' ', sentence) \n",
        "\n",
        "  # Removing multiple spaces \n",
        "  sentence = re.sub(r'\\s+', ' ', sentence) \n",
        "\n",
        "  return sentence \n",
        "\n",
        "def remove_tags(text):\n",
        "  TAG_RE = re.compile(r'<[^>]+>,.') \n",
        "  return TAG_RE.sub('', text) "
      ],
      "execution_count": 164,
      "outputs": []
    },
    {
      "cell_type": "code",
      "metadata": {
        "id": "LCN99rs46x_J"
      },
      "source": [
        "news = [] \n",
        "sentences = list(data['news']) \n",
        "for sen in sentences: \n",
        "  news.append(preprocess_text(sen)) "
      ],
      "execution_count": 165,
      "outputs": []
    },
    {
      "cell_type": "code",
      "metadata": {
        "colab": {
          "base_uri": "https://localhost:8080/",
          "height": 204
        },
        "id": "Ln0M92ds0XCR",
        "outputId": "53261e01-4344-4528-e373-e36064f05d6f"
      },
      "source": [
        "data.head()"
      ],
      "execution_count": 166,
      "outputs": [
        {
          "output_type": "execute_result",
          "data": {
            "text/html": [
              "<div>\n",
              "<style scoped>\n",
              "    .dataframe tbody tr th:only-of-type {\n",
              "        vertical-align: middle;\n",
              "    }\n",
              "\n",
              "    .dataframe tbody tr th {\n",
              "        vertical-align: top;\n",
              "    }\n",
              "\n",
              "    .dataframe thead th {\n",
              "        text-align: right;\n",
              "    }\n",
              "</style>\n",
              "<table border=\"1\" class=\"dataframe\">\n",
              "  <thead>\n",
              "    <tr style=\"text-align: right;\">\n",
              "      <th></th>\n",
              "      <th>mark</th>\n",
              "      <th>date</th>\n",
              "      <th>news</th>\n",
              "    </tr>\n",
              "  </thead>\n",
              "  <tbody>\n",
              "    <tr>\n",
              "      <th>0</th>\n",
              "      <td>1</td>\n",
              "      <td>2021-07-22</td>\n",
              "      <td>India’s Environment Ministry has almost halved...</td>\n",
              "    </tr>\n",
              "    <tr>\n",
              "      <th>1</th>\n",
              "      <td>1</td>\n",
              "      <td>2021-07-22</td>\n",
              "      <td>Singapore’s home price growth slowed in the se...</td>\n",
              "    </tr>\n",
              "    <tr>\n",
              "      <th>2</th>\n",
              "      <td>1</td>\n",
              "      <td>2021-07-22</td>\n",
              "      <td>What keeps breaking the buck, is engaged in fi...</td>\n",
              "    </tr>\n",
              "    <tr>\n",
              "      <th>3</th>\n",
              "      <td>1</td>\n",
              "      <td>2021-07-22</td>\n",
              "      <td>Malaysia has confirmed one case of an individu...</td>\n",
              "    </tr>\n",
              "    <tr>\n",
              "      <th>4</th>\n",
              "      <td>1</td>\n",
              "      <td>2021-07-22</td>\n",
              "      <td>Xponential Fitness Inc., the franchise owner o...</td>\n",
              "    </tr>\n",
              "  </tbody>\n",
              "</table>\n",
              "</div>"
            ],
            "text/plain": [
              "   mark        date                                               news\n",
              "0     1  2021-07-22  India’s Environment Ministry has almost halved...\n",
              "1     1  2021-07-22  Singapore’s home price growth slowed in the se...\n",
              "2     1  2021-07-22  What keeps breaking the buck, is engaged in fi...\n",
              "3     1  2021-07-22  Malaysia has confirmed one case of an individu...\n",
              "4     1  2021-07-22  Xponential Fitness Inc., the franchise owner o..."
            ]
          },
          "metadata": {},
          "execution_count": 166
        }
      ]
    },
    {
      "cell_type": "code",
      "metadata": {
        "id": "8mEZUVVe617z"
      },
      "source": [
        "BertTokenizer = bert.bert_tokenization.FullTokenizer \n",
        "bert_layer = hub.KerasLayer(\"https://tfhub.dev/tensorflow/bert_en_uncased_L-12_H-768_A-12/1\", \n",
        "trainable=False) \n",
        "vocabulary_file = bert_layer.resolved_object.vocab_file.asset_path.numpy() \n",
        "to_lower_case = bert_layer.resolved_object.do_lower_case.numpy() \n",
        "tokenizer = BertTokenizer(vocabulary_file, to_lower_case) "
      ],
      "execution_count": 167,
      "outputs": []
    },
    {
      "cell_type": "code",
      "metadata": {
        "id": "iH1OeZ3gFZXu"
      },
      "source": [
        "def tokenize_news(text_news): \n",
        "  return tokenizer.convert_tokens_to_ids(tokenizer.tokenize(text_news)) "
      ],
      "execution_count": 168,
      "outputs": []
    },
    {
      "cell_type": "code",
      "metadata": {
        "id": "_WU_3Z2xFgiM"
      },
      "source": [
        "tokenized_news = [tokenize_news(new) for new in news] "
      ],
      "execution_count": 169,
      "outputs": []
    },
    {
      "cell_type": "code",
      "metadata": {
        "id": "lSQqltBzfEb0"
      },
      "source": [
        "news_tokenized = data.assign(tokenized = tokenized_news)"
      ],
      "execution_count": 170,
      "outputs": []
    },
    {
      "cell_type": "code",
      "metadata": {
        "colab": {
          "base_uri": "https://localhost:8080/"
        },
        "id": "xYkZigqLlEZQ",
        "outputId": "4f047288-60b1-46be-ddc8-78902d00014d"
      },
      "source": [
        "print(news_tokenized)"
      ],
      "execution_count": 171,
      "outputs": [
        {
          "output_type": "stream",
          "name": "stdout",
          "text": [
            "      mark  ...                                          tokenized\n",
            "0        1  ...  [2634, 4044, 3757, 2038, 2471, 11085, 7178, 19...\n",
            "1        1  ...  [5264, 2188, 3976, 3930, 9784, 1999, 1996, 211...\n",
            "2        1  ...  [2054, 7906, 4911, 1996, 10131, 2003, 5117, 19...\n",
            "3        1  ...  [6027, 2038, 4484, 2028, 2553, 1997, 2019, 326...\n",
            "4        1  ...  [26726, 5643, 19909, 10516, 4297, 1996, 6329, ...\n",
            "...    ...  ...                                                ...\n",
            "1907     0  ...  [1996, 3484, 1997, 7273, 2015, 2024, 2025, 851...\n",
            "1908     0  ...  [3696, 2039, 2005, 1996, 2047, 4610, 3679, 171...\n",
            "1909     0  ...  [14455, 12030, 3062, 1996, 2087, 1999, 2698, 2...\n",
            "1910     0  ...  [3696, 2039, 2005, 1996, 2047, 4610, 3679, 171...\n",
            "1911     0  ...  [3582, 2149, 19888, 2080, 2005, 2256, 2440, 63...\n",
            "\n",
            "[1912 rows x 4 columns]\n"
          ]
        }
      ]
    },
    {
      "cell_type": "code",
      "metadata": {
        "id": "Qmz48PhwlfUd"
      },
      "source": [
        "news_tokenized.to_csv(PATH_TO_DATA +'/bloomberg_tokenized.csv')"
      ],
      "execution_count": 172,
      "outputs": []
    }
  ]
}