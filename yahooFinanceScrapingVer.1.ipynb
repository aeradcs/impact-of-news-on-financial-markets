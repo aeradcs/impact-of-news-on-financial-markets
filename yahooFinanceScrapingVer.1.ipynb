{
 "cells": [
  {
   "cell_type": "code",
   "execution_count": 1,
   "id": "ca3382a8",
   "metadata": {},
   "outputs": [],
   "source": [
    "#Import the libraries we’ll be using throughout our notebook:\n",
    "import requests"
   ]
  },
  {
   "cell_type": "code",
   "execution_count": 2,
   "id": "57b47b66",
   "metadata": {},
   "outputs": [],
   "source": [
    "import requests as req"
   ]
  },
  {
   "cell_type": "code",
   "execution_count": 3,
   "id": "2dd3fdfe",
   "metadata": {},
   "outputs": [],
   "source": [
    "import sys"
   ]
  },
  {
   "cell_type": "code",
   "execution_count": 4,
   "id": "55bb0ac6",
   "metadata": {},
   "outputs": [],
   "source": [
    "sys.path.insert(0,'/Users/mac/chromedriver')\n"
   ]
  },
  {
   "cell_type": "code",
   "execution_count": 5,
   "id": "fc54f0fc",
   "metadata": {},
   "outputs": [],
   "source": [
    "from selenium import webdriver\n",
    "from selenium.webdriver.common.by import By\n",
    "from selenium.webdriver.support.ui import WebDriverWait\n",
    "from selenium.webdriver.support import expected_conditions as EC\n",
    "from selenium.webdriver.common.keys import Keys\n",
    "import pandas as pd\n",
    "import numpy as np\n",
    "from bs4 import BeautifulSoup\n",
    "import string\n",
    "import time\n",
    "from datetime import datetime\n",
    "import re\n",
    "from json import loads"
   ]
  },
  {
   "cell_type": "code",
   "execution_count": 9,
   "id": "88c03876",
   "metadata": {},
   "outputs": [],
   "source": [
    "import re"
   ]
  },
  {
   "cell_type": "code",
   "execution_count": 18,
   "id": "97b0ea2f",
   "metadata": {},
   "outputs": [
    {
     "name": "stdout",
     "output_type": "stream",
     "text": [
      "https://news.yahoo.com//news/central-bank-report-highlights-risk-in-the-race-to-digital-currencies-114759021.html\n",
      "https://news.yahoo.com//news/the-true-difference-between-bitcoin-and-ethereum-according-to-grayscales-ceo-195502446.html\n",
      "https://news.yahoo.com//news/coinbase-scores-first-buy-rating-as-stock-sags-but-heres-why-the-future-could-still-be-bright-182902447.html\n",
      "https://news.yahoo.com//video/daymak-launch-electric-car-mines-165522434.html\n",
      "https://news.yahoo.com//video/massmutuals-flourish-diving-crypto-163418752.html\n",
      "https://news.yahoo.com//video/retail-investing-stay-suzanne-shank-134418839.html\n",
      "https://news.yahoo.com//news/top-treasury-official-crypto-industry-should-embrace-regulation-before-crisis-hits-124059096.html\n",
      "https://news.yahoo.com//news/ethereum-needs-bounce-support-else-131838020.html\n",
      "https://news.yahoo.com//video/china-crackdown-legal-concerns-korea-144800108.html\n",
      "https://news.yahoo.com//news/bitcoin-ethereum-rise-venezuela-launches-digital-currency-081104851.html\n",
      "https://news.yahoo.com//m/c53948df-492c-353a-883e-6292d6e9dbff/is-mara-stock-a-buy-after.html\n",
      "https://news.yahoo.com//news/crypto-job-hiring-sees-huge-125004408.html\n"
     ]
    }
   ],
   "source": [
    "links = []\n",
    "links_append = []\n",
    "#link = ['https://news.yahoo.com','https://finance.yahoo.com/news','https://finance.yahoo.com/live/politics','https://finance.yahoo.com/topic/stock-market-news','https://finance.yahoo.com/topic/crypto/','https://finance.yahoo.com/topic/morning-brief','https://finance.yahoo.com/bidenomics']\n",
    "#linkAuthor = ['https://www.yahoo.com/author/aarthi-swaminathan','https://www.yahoo.com/author/adam-shapiro','https://www.yahoo.com/author/adriana-belmonte','https://www.yahoo.com/author/akiko-fujita','https://www.yahoo.com/author/alexis-christoforous','https://www.yahoo.com/author/alexis-keenan','https://www.yahoo.com/author/amanda-fung','https://www.yahoo.com/author/andy-serwer','https://www.yahoo.com/author/anjalee-khemlani','https://www.yahoo.com/author/ben-werschkul','https://www.yahoo.com/author/brian-cheung','https://www.yahoo.com/author/brian-sozzi','https://www.yahoo.com/author/brooke-dipalma','https://www.yahoo.com/author/dani-romero','https://www.yahoo.com/author/daniel-howley','https://www.yahoo.com/author/david-hollerith','https://www.yahoo.com/author/denitsa-tsekova','https://www.yahoo.com/author/emily-mccormick','https://www.yahoo.com/author/erin-fuchs','https://www.yahoo.com/author/ethan-wolff-mann','https://www.yahoo.com/author/ines-ferre','https://www.yahoo.com/author/jared-blikre','https://www.yahoo.com/author/javier-e-david','https://www.yahoo.com/author/alexandra-canal','https://www.yahoo.com/author/jessica-smith','https://www.yahoo.com/author/julie-hyman','https://www.yahoo.com/author/lisa-scherzer','https://www.yahoo.com/author/max-zahn','https://www.yahoo.com/author/michael-b-kelley/','https://www.yahoo.com/author/pras-subramanian','https://www.yahoo.com/author/reggie-wade','https://www.yahoo.com/author/rick-newman','https://www.yahoo.com/author/seana-smith','https://www.yahoo.com/author/sheila-bair','https://www.yahoo.com/author/sheila-bair','https://www.yahoo.com/author/sibile-marcellus','https://www.yahoo.com/author/stephanie-asymkos','https://www.yahoo.com/author/zack-guzman']\n",
    "linkStock = ['https://finance.yahoo.com/quote/KO/press-releases?p=KO','https://finance.yahoo.com/quote/JNJ/press-releases?p=JNJ','https://finance.yahoo.com/quote/JNJ/news?p=JNJ','https://finance.yahoo.com/quote/AAL/news?p=AAL','https://finance.yahoo.com/quote/AAL/press-releases?p=AAL','https://finance.yahoo.com/quote/AMC/news?p=AMC','https://finance.yahoo.com/quote/AMC/press-releases?p=AMC','https://finance.yahoo.com/quote/NIO/news?p=NIO','https://finance.yahoo.com/quote/NIO/press-releases?p=NIO','https://finance.yahoo.com/quote/BBBY/news?p=BBBY','https://finance.yahoo.com/quote/BBBY/press-releases?p=BBBY','https://finance.yahoo.com/quote/MRK/news?p=MRK','https://finance.yahoo.com/quote/MRK/press-releases?p=MRK','https://finance.yahoo.com/quote/BTC-USD?p=BTC-USD&.tsrc=fin-srch','https://finance.yahoo.com/quote/%5ETNX?p=%5ETNX','https://finance.yahoo.com/quote/ES%3DF?p=ES%3DF','https://finance.yahoo.com/quote/ES%3DF?p=ES%3DF','https://finance.yahoo.com/quote/YM%3DF?p=YM%3DF','https://finance.yahoo.com/quote/NQ%3DF?p=NQ%3DF','https://finance.yahoo.com/quote/RTY%3DF?p=RTY%3DF','https://finance.yahoo.com/quote/CL%3DF?p=CL%3DF','https://finance.yahoo.com/quote/GC%3DF?p=GC%3DF','https://finance.yahoo.com/quote/EURUSD%3DX?p=EURUSD%3DX','https://finance.yahoo.com/quote/%5ETNX?p=%5ETNX','https://finance.yahoo.com/quote/%5EVIX?p=%5EVIX','https://finance.yahoo.com/quote/GBPUSD%3DX?p=GBPUSD%3DX','https://finance.yahoo.com/quote/USDJPY%3DX?p=USDJPY%3DX','https://finance.yahoo.com/quote/%5ECMC200?p=%5ECMC200','https://finance.yahoo.com/quote/%5ECMC200?p=%5ECMC200','https://finance.yahoo.com/quote/%5EFTSE?p=%5EFTSE','https://finance.yahoo.com/quote/%5EN225?p=%5EN225']\n",
    "counter = 1\n",
    "#site_tag = soup.find_all(\"a\", {\"class\": 'js-content-viewer'})\n",
    "for i in range(len(linkStock)):\n",
    "        res = req.get(linkStock[i])\n",
    "        r = requests.get(f'{linkStock[i]}')\n",
    "        soupeR = BeautifulSoup(r.content, 'html.parser')\n",
    "        site_tag = soupeR.find_all(\"a\", {\"class\": 'js-content-viewer'})\n",
    "        for a in site_tag:\n",
    "            links.append(\"https://news.yahoo.com/\"+a['href'])\n",
    "\n",
    "    \n",
    "for j in range(len(site_tag)):\n",
    "    print(links[j])\n",
    "   # links_append.append(\"https://news.yahoo.com\"+links[j])"
   ]
  },
  {
   "cell_type": "code",
   "execution_count": 20,
   "id": "b28a7f8e",
   "metadata": {},
   "outputs": [],
   "source": [
    "for i in range(len(links)):\n",
    "    \n",
    "    \n",
    "    r = requests.get(f'{links[i]}')\n",
    "    soupR = BeautifulSoup(r.content, 'html.parser')\n",
    "    time_tag = soupR.find(\"time\", {\"class datetime\": ''})\n",
    "    #print(time_tag.text)\n",
    "    body_tag = soupR.find(\"div\", {\"class\":'caas-body'})\n",
    "    #print(body_tag.text)\n",
    "    \n",
    "    f = open('Yahoo!FinanceNew.txt', 'a')\n",
    "    f.write(time_tag.text)\n",
    "    f.write('\\n')\n",
    "    f.write(body_tag.text)\n",
    "    f.write('\\n')  \n",
    "    f.close()"
   ]
  },
  {
   "cell_type": "code",
   "execution_count": null,
   "id": "82e05ac5",
   "metadata": {},
   "outputs": [],
   "source": []
  }
 ],
 "metadata": {
  "kernelspec": {
   "display_name": "Python 3",
   "language": "python",
   "name": "python3"
  },
  "language_info": {
   "codemirror_mode": {
    "name": "ipython",
    "version": 3
   },
   "file_extension": ".py",
   "mimetype": "text/x-python",
   "name": "python",
   "nbconvert_exporter": "python",
   "pygments_lexer": "ipython3",
   "version": "3.8.8"
  }
 },
 "nbformat": 4,
 "nbformat_minor": 5
}
